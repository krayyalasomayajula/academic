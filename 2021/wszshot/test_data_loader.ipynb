{
 "cells": [
  {
   "cell_type": "code",
   "execution_count": 1,
   "id": "252979ba-05f9-4002-9a14-1f4e502f60f8",
   "metadata": {},
   "outputs": [],
   "source": [
    "import os\n",
    "import yaml"
   ]
  },
  {
   "cell_type": "markdown",
   "id": "b78c1949-80df-4421-b1ec-a1e3049e4811",
   "metadata": {},
   "source": [
    "# CLI config"
   ]
  },
  {
   "cell_type": "code",
   "execution_count": 2,
   "id": "16ca1843-a901-47ba-80de-7ed0310613f5",
   "metadata": {
    "tags": []
   },
   "outputs": [
    {
     "name": "stdout",
     "output_type": "stream",
     "text": [
      "./test_log directory: exists\n",
      "dict_keys(['device', 'global_macros', 'loaders', 'model', 'trainer', 'firelight'])\n"
     ]
    }
   ],
   "source": [
    "cli = {}\n",
    "cli['config'] = './config/zs_config.yml'\n",
    "cli['log_dir'] = './test_log'\n",
    "\n",
    "if cli['log_dir'] is None:\n",
    "        cli['log_dir'] = input (\"Enter directory to save model and logs:\")\n",
    "    \n",
    "if not os.path.exists(cli['log_dir']):\n",
    "    os.makedirs(cli['log_dir'])\n",
    "else:\n",
    "    print(f\"{cli['log_dir']} directory: exists\")\n",
    "\n",
    "with open(cli['config'], 'r') as f:\n",
    "    args = yaml.safe_load(f)\n",
    "\n",
    "print(args.keys())"
   ]
  },
  {
   "cell_type": "code",
   "execution_count": 3,
   "id": "60bf1a51-326a-47a7-ace7-8e07fdc1d73e",
   "metadata": {},
   "outputs": [],
   "source": [
    "import importlib\n",
    "import operator\n",
    "from typing import Callable\n",
    "\n",
    "import torch\n",
    "from packaging.version import Version\n",
    "from pkg_resources import DistributionNotFound\n",
    "from pytorch_lightning.utilities import _module_available\n",
    "\n",
    "#from pl_bolts.callbacks.verification.batch_gradient import BatchGradientVerification  # type: ignore\n",
    "\n",
    "\n",
    "# Ported from https://github.com/PyTorchLightning/pytorch-lightning/blob/master/pytorch_lightning/utilities/imports.py\n",
    "def _compare_version(package: str, op: Callable, version: str) -> bool:\n",
    "    \"\"\"Compare package version with some requirements.\n",
    "\n",
    "    >>> _compare_version(\"torch\", operator.ge, \"0.1\")\n",
    "    True\n",
    "    \"\"\"\n",
    "    try:\n",
    "        pkg = importlib.import_module(package)\n",
    "    except (ModuleNotFoundError, DistributionNotFound):\n",
    "        return False\n",
    "    try:\n",
    "        pkg_version = Version(pkg.__version__)\n",
    "    except TypeError:\n",
    "        # this is mock by sphinx, so it shall return True ro generate all summaries\n",
    "        return True\n",
    "    return op(pkg_version, Version(version))\n",
    "\n",
    "\n",
    "_NATIVE_AMP_AVAILABLE: bool = _module_available(\"torch.cuda.amp\") and hasattr(torch.cuda.amp, \"autocast\")\n",
    "\n",
    "_TORCHVISION_AVAILABLE: bool = _module_available(\"torchvision\")\n",
    "_GYM_AVAILABLE: bool = _module_available(\"gym\")\n",
    "_SKLEARN_AVAILABLE: bool = _module_available(\"sklearn\")\n",
    "_PIL_AVAILABLE: bool = _module_available(\"PIL\")\n",
    "_OPENCV_AVAILABLE: bool = _module_available(\"cv2\")\n",
    "_WANDB_AVAILABLE: bool = _module_available(\"wandb\")\n",
    "_MATPLOTLIB_AVAILABLE: bool = _module_available(\"matplotlib\")\n",
    "_TORCHVISION_LESS_THAN_0_9_1: bool = _compare_version(\"torchvision\", operator.lt, \"0.9.1\")\n",
    "_PL_GREATER_EQUAL_1_4 = _compare_version(\"pytorch_lightning\", operator.ge, \"1.4.0\")\n",
    "_PL_GREATER_EQUAL_1_4_5 = _compare_version(\"pytorch_lightning\", operator.ge, \"1.4.5\")\n",
    "_TORCH_ORT_AVAILABLE = _module_available(\"torch_ort\")\n",
    "_TORCH_MAX_VERSION_SPARSEML = _compare_version(\"torch\", operator.lt, \"1.10.0\")\n",
    "_SPARSEML_AVAILABLE = _module_available(\"sparseml\") and _PL_GREATER_EQUAL_1_4_5 and _TORCH_MAX_VERSION_SPARSEML\n",
    "\n",
    "if not _PIL_AVAILABLE:  # pragma: no cover\n",
    "    raise ModuleNotFoundError(\"PIL is required but not installed.\")\n",
    "if not _TORCHVISION_AVAILABLE:  # pragma: no cover\n",
    "    raise ModuleNotFoundError(\"You want to use `torchvision` which is not installed yet.\")\n",
    "\n",
    "#__all__ = [\"BatchGradientVerification\"]"
   ]
  },
  {
   "cell_type": "code",
   "execution_count": 4,
   "id": "319e3a42-398e-4bc4-9b81-cd951ee8d6f7",
   "metadata": {},
   "outputs": [
    {
     "name": "stdout",
     "output_type": "stream",
     "text": [
      "_NATIVE_AMP_AVAILABLE: True\n",
      "_TORCHVISION_AVAILABLE: True\n",
      "_GYM_AVAILABLE: False\n",
      "_SKLEARN_AVAILABLE: True\n",
      "_PIL_AVAILABLE: True\n",
      "_OPENCV_AVAILABLE: False\n",
      "_WANDB_AVAILABLE: True\n",
      "_MATPLOTLIB_AVAILABLE: True\n",
      "_TORCHVISION_LESS_THAN_0_9_1: False\n",
      "_PL_GREATER_EQUAL_1_4: True\n",
      "_PL_GREATER_EQUAL_1_4_5: True\n",
      "_TORCH_ORT_AVAILABLE: False\n",
      "_TORCH_MAX_VERSION_SPARSEML: False\n",
      "_SPARSEML_AVAILABLE: False\n"
     ]
    }
   ],
   "source": [
    "print(f\"_NATIVE_AMP_AVAILABLE: {_NATIVE_AMP_AVAILABLE}\")\n",
    "\n",
    "print(f\"_TORCHVISION_AVAILABLE: {_TORCHVISION_AVAILABLE}\")\n",
    "print(f\"_GYM_AVAILABLE: {_GYM_AVAILABLE}\")\n",
    "print(f\"_SKLEARN_AVAILABLE: {_SKLEARN_AVAILABLE}\")\n",
    "print(f\"_PIL_AVAILABLE: {_PIL_AVAILABLE}\")\n",
    "print(f\"_OPENCV_AVAILABLE: {_OPENCV_AVAILABLE}\")\n",
    "print(f\"_WANDB_AVAILABLE: {_WANDB_AVAILABLE}\")\n",
    "print(f\"_MATPLOTLIB_AVAILABLE: {_MATPLOTLIB_AVAILABLE}\")\n",
    "print(f\"_TORCHVISION_LESS_THAN_0_9_1: {_TORCHVISION_LESS_THAN_0_9_1}\")\n",
    "print(f\"_PL_GREATER_EQUAL_1_4: {_PL_GREATER_EQUAL_1_4}\")\n",
    "print(f\"_PL_GREATER_EQUAL_1_4_5: {_PL_GREATER_EQUAL_1_4_5}\")\n",
    "print(f\"_TORCH_ORT_AVAILABLE: {_TORCH_ORT_AVAILABLE}\")\n",
    "print(f\"_TORCH_MAX_VERSION_SPARSEML: {_TORCH_MAX_VERSION_SPARSEML}\")\n",
    "print(f\"_SPARSEML_AVAILABLE: {_SPARSEML_AVAILABLE}\")"
   ]
  },
  {
   "cell_type": "code",
   "execution_count": 5,
   "id": "9422d203-cb08-4893-b17e-49bd023cbee1",
   "metadata": {},
   "outputs": [],
   "source": [
    "import os\n",
    "\n",
    "import numpy as np\n",
    "from torch.utils.data import Dataset\n",
    "\n",
    "#from pl_bolts.utils import _PIL_AVAILABLE\n",
    "#from pl_bolts.utils.warnings import warn_missing_pkg\n",
    "\n",
    "if _PIL_AVAILABLE:\n",
    "    from PIL import Image\n",
    "else:  # pragma: no cover\n",
    "    print(f\"Warning missing pkg: Pillow\")"
   ]
  },
  {
   "cell_type": "code",
   "execution_count": 6,
   "id": "119e0121-d751-4e8c-b2d7-05b693094f3a",
   "metadata": {},
   "outputs": [
    {
     "name": "stdout",
     "output_type": "stream",
     "text": [
      "{'dataset_config': {'general': {'ds_class': ['utils.dataset.phosc.PHOSCZSDataset', 'utils.dataset.phosc.ImageDataset', 'utils.dataset.phosc.PhosDataset', 'utils.dataset.phosc.PhocDataset', 'utils.dataset.phosc.WordlabelDataset'], 'type': 'dir', 'raw': None, 'label': None, 'unseen': None, 'transforms': None}, 'train': {'raw': '/media/windowsC/SIN_Desktop/projects/ZSL_WordSpotting/unit_test_data/train', 'label': '/media/windowsC/SIN_Desktop/projects/ZSL_WordSpotting/unit_test_data/train.csv'}, 'valid': {'raw': '/media/windowsC/SIN_Desktop/projects/ZSL_WordSpotting/unit_test_data/val', 'label': '/media/windowsC/SIN_Desktop/projects/ZSL_WordSpotting/unit_test_data/val.csv'}}, 'loader_config': {'utils.dataloader.phosc.PHOSCZSDataModule': {'seed': 1234, 'drop_last': False, 'pin_memory': True, 'shuffle': True, 'batch_size': 10, 'num_workers': 10}}}\n",
      "dict_keys(['dataset_config', 'loader_config'])\n"
     ]
    }
   ],
   "source": [
    "print(args['loaders'])\n",
    "print(args['loaders'].keys())"
   ]
  },
  {
   "cell_type": "code",
   "execution_count": 7,
   "id": "cc139373-821e-4e01-9354-7639025d0e19",
   "metadata": {},
   "outputs": [],
   "source": [
    "from utils.generic.parsing import recursive_parse_settings\n",
    "from utils.generic.getaccess import get_class_from_str"
   ]
  },
  {
   "cell_type": "code",
   "execution_count": 8,
   "id": "923baec6-4431-4d92-a5ac-0d70bf8d3b1c",
   "metadata": {},
   "outputs": [
    {
     "name": "stdout",
     "output_type": "stream",
     "text": [
      "{'general': {'ds_class': ['utils.dataset.phosc.PHOSCZSDataset', 'utils.dataset.phosc.ImageDataset', 'utils.dataset.phosc.PhosDataset', 'utils.dataset.phosc.PhocDataset', 'utils.dataset.phosc.WordlabelDataset'], 'type': 'dir', 'raw': None, 'label': None, 'unseen': None, 'transforms': None}, 'train': {'raw': '/media/windowsC/SIN_Desktop/projects/ZSL_WordSpotting/unit_test_data/train', 'label': '/media/windowsC/SIN_Desktop/projects/ZSL_WordSpotting/unit_test_data/train.csv'}, 'valid': {'raw': '/media/windowsC/SIN_Desktop/projects/ZSL_WordSpotting/unit_test_data/val', 'label': '/media/windowsC/SIN_Desktop/projects/ZSL_WordSpotting/unit_test_data/val.csv'}}\n",
      "{'utils.dataloader.phosc.PHOSCZSDataModule': {'seed': 1234, 'drop_last': False, 'pin_memory': True, 'shuffle': True, 'batch_size': 10, 'num_workers': 10}}\n"
     ]
    }
   ],
   "source": [
    "dataset_config = args['loaders']['dataset_config']\n",
    "loader_config = args['loaders']['loader_config']\n",
    "print(dataset_config)\n",
    "print(loader_config)"
   ]
  },
  {
   "cell_type": "code",
   "execution_count": 9,
   "id": "ed1903c9-143a-412d-9bef-74dc2b2ed01d",
   "metadata": {},
   "outputs": [
    {
     "name": "stdout",
     "output_type": "stream",
     "text": [
      "size(trainset): 38, size(validset): 11\n"
     ]
    }
   ],
   "source": [
    "loader_key, loader_config_value = next(iter(loader_config.items()))\n",
    "loader_class = get_class_from_str(loader_key)\n",
    "phosc_loader = loader_class(dataset_config, loader_config_value)\n",
    "phosc_loader.prepare_data()\n",
    "\n",
    "trainset_sz = len(phosc_loader.trainset)\n",
    "validset_sz = len(phosc_loader.validset)\n",
    "print(f\"size(trainset): {trainset_sz}, size(validset): {validset_sz}\")"
   ]
  },
  {
   "cell_type": "markdown",
   "id": "6eb40ac1-d96f-4d32-9d20-d791f66e641d",
   "metadata": {},
   "source": [
    "# Test <code>dataset</code>"
   ]
  },
  {
   "cell_type": "code",
   "execution_count": 10,
   "id": "0df1a459-d89d-4938-b243-66b0feb0b593",
   "metadata": {},
   "outputs": [],
   "source": [
    "import math\n",
    "def get_data_from_dataset(dataset, n_epochs, steps_per_epoch, batch_size):\n",
    "    for epoch_idx in range(n_epochs):\n",
    "        for batch_idx in range(steps_per_epoch):\n",
    "            batch_dict = {}\n",
    "            for idx in range(batch_size):\n",
    "                sample = next(iter(dataset))\n",
    "                if len(batch_dict) ==0 :\n",
    "                    for key, value in sample.items():\n",
    "                        batch_dict[key] = [value]\n",
    "                else:\n",
    "                    for key, value in sample.items():\n",
    "                        batch_dict[key] += [value]\n",
    "            \n",
    "            for key, value in batch_dict.items():\n",
    "                batch_dict[key] = np.array(value)\n",
    "                \n",
    "            '''print(f\"batch_idx: {batch_idx}, sample_batch: {batch_dict.keys()}\")\n",
    "            \n",
    "            for key,value in batch_dict.items():\n",
    "                print(f\"key: {value.shape}\")'''\n",
    "\n",
    "get_data_from_dataset(phosc_loader.trainset, \n",
    "                      3, \n",
    "                      math.ceil(trainset_sz/loader_config_value['batch_size']), \n",
    "                      loader_config_value['batch_size'])\n",
    "get_data_from_dataset(phosc_loader.validset, \n",
    "                      3, \n",
    "                      math.ceil(trainset_sz/loader_config_value['batch_size']), \n",
    "                      loader_config_value['batch_size'])"
   ]
  },
  {
   "cell_type": "markdown",
   "id": "6a88ddde-480c-434b-bb47-fb36de7e3f5a",
   "metadata": {},
   "source": [
    "# Test <code>loader</code>"
   ]
  },
  {
   "cell_type": "code",
   "execution_count": 11,
   "id": "2bfd82ad-25bc-47ce-9c39-7d9aca6274ef",
   "metadata": {},
   "outputs": [
    {
     "name": "stdout",
     "output_type": "stream",
     "text": [
      "idx: 0, key: img, shape: torch.Size([10, 50, 250, 3])\n",
      "idx: 0, key: phos, shape: torch.Size([10, 165])\n",
      "idx: 0, key: phoc, shape: torch.Size([10, 604])\n",
      "idx: 0, key: wlabel, shape: torch.Size([10])\n",
      "['of' 'in' 'such' 'the' 'writing' 'but' 'such' 'of' 'but' 'haste']\n"
     ]
    },
    {
     "data": {
      "text/plain": [
       "<Figure size 576x1152 with 0 Axes>"
      ]
     },
     "metadata": {},
     "output_type": "display_data"
    },
    {
     "data": {
      "image/png": "[encoded data removed]",
      "text/plain": [
       "<Figure size 432x288 with 10 Axes>"
      ]
     },
     "metadata": {
      "needs_background": "light"
     },
     "output_type": "display_data"
    },
    {
     "name": "stdout",
     "output_type": "stream",
     "text": [
      "idx: 1, key: img, shape: torch.Size([10, 50, 250, 3])\n",
      "idx: 1, key: phos, shape: torch.Size([10, 165])\n",
      "idx: 1, key: phoc, shape: torch.Size([10, 604])\n",
      "idx: 1, key: wlabel, shape: torch.Size([10])\n",
      "['but' 'also' 'the' 'haste' 'but' 'the' 'haste' 'in' 'such' 'boys']\n"
     ]
    },
    {
     "data": {
      "image/png": "[encoded data removed]",
      "text/plain": [
       "<Figure size 432x288 with 10 Axes>"
      ]
     },
     "metadata": {
      "needs_background": "light"
     },
     "output_type": "display_data"
    },
    {
     "name": "stdout",
     "output_type": "stream",
     "text": [
      "idx: 2, key: img, shape: torch.Size([10, 50, 250, 3])\n",
      "idx: 2, key: phos, shape: torch.Size([10, 165])\n",
      "idx: 2, key: phoc, shape: torch.Size([10, 604])\n",
      "idx: 2, key: wlabel, shape: torch.Size([10])\n",
      "['in' 'of' 'also' 'writing' 'also' 'writing' 'the' 'also' 'boys' 'boys']\n"
     ]
    },
    {
     "data": {
      "image/png": "[encoded data removed]",
      "text/plain": [
       "<Figure size 432x288 with 10 Axes>"
      ]
     },
     "metadata": {
      "needs_background": "light"
     },
     "output_type": "display_data"
    },
    {
     "name": "stdout",
     "output_type": "stream",
     "text": [
      "idx: 3, key: img, shape: torch.Size([8, 50, 250, 3])\n",
      "idx: 3, key: phos, shape: torch.Size([8, 165])\n",
      "idx: 3, key: phoc, shape: torch.Size([8, 604])\n",
      "idx: 3, key: wlabel, shape: torch.Size([8])\n",
      "['in' 'the' 'the' 'the' 'writing' 'such' 'haste' 'of']\n"
     ]
    },
    {
     "data": {
      "image/png": "[encoded data removed]",
      "text/plain": [
       "<Figure size 432x288 with 8 Axes>"
      ]
     },
     "metadata": {
      "needs_background": "light"
     },
     "output_type": "display_data"
    },
    {
     "data": {
      "text/plain": [
       "<Figure size 432x288 with 0 Axes>"
      ]
     },
     "metadata": {},
     "output_type": "display_data"
    }
   ],
   "source": [
    "#Plotting a Batch of DataLoader\n",
    "#batch = iter(phosc_loader).next()\n",
    "import matplotlib.pyplot as plt\n",
    "plt.figure(figsize = (8,16))\n",
    "fig, axes = plt.subplots(2, 5) # factors of batch_size\n",
    "for batch_idx, batch in enumerate(phosc_loader.train_dataloader()):\n",
    "    for key, value in batch.items():\n",
    "        print(f\"idx: {batch_idx}, key: {key}, shape: {value.shape}\")\n",
    "    \n",
    "    #for e,(img, lbl) in enumerate(zip(images, labels)):\n",
    "    images = batch['img'].numpy()\n",
    "    labels = phosc_loader.wordLabelEncoder.inverse_transform(batch['wlabel'].numpy().tolist())\n",
    "    print(labels)\n",
    "    for idx in range(images.shape[0]):\n",
    "        img = images[idx, :, :, :]\n",
    "        \n",
    "        plt.subplot(2, 5, idx+1)\n",
    "        plt.imshow(img)\n",
    "        plt.title(f'{labels[idx]}')\n",
    "        \n",
    "    plt.tight_layout()\n",
    "    plt.show()\n",
    "    val = 'y' #0\n",
    "    while val != 'y':\n",
    "        val = input(\"Enter y to continue: \")\n",
    "    \n",
    "    plt.clf()\n",
    "    \n"
   ]
  },
  {
   "cell_type": "markdown",
   "id": "2664c064-865c-493e-939e-601fcbf787d1",
   "metadata": {},
   "source": [
    "# Run <code>model</code>"
   ]
  },
  {
   "cell_type": "code",
   "execution_count": 12,
   "id": "f8308319-450b-4bad-a12a-ec8aa185f407",
   "metadata": {},
   "outputs": [],
   "source": [
    "import torch.nn as nn\n",
    "from models.phocnet.buildingblocks import create_phocnet_architecture\n",
    "from models.phocnet.pyramidpooling import SpatialPyramidPooling, TemporalPyramidPooling\n",
    "\n",
    "class PhoscFeatureHead(nn.Module):\n",
    "    def __init__(self, fmaps, dropouts):\n",
    "        super(PhoscFeatureHead, self).__init__()\n",
    "        assert len(fmaps) >= len(dropouts)\n",
    "        self.fmaps = fmaps\n",
    "        self.dropouts = dropouts\n",
    "\n",
    "    def forward(self, x):\n",
    "        return self.feature_head(x, self.fmaps, self.dropouts)\n",
    "    \n",
    "    @staticmethod\n",
    "    def feature_head(previous_conv, list_fmaps, list_dropouts):\n",
    "        previous_conv_size = previous_conv.size(-1) # Expecting a flattened feature vector (N * dim)\n",
    "        \n",
    "        for i in range(len(list_fmaps)):\n",
    "            if i < len(list_dropouts):\n",
    "                if i == 0:\n",
    "                    x= nn.Linear(previous_conv_size, list_fmaps[i])(previous_conv)\n",
    "                else:\n",
    "                    x= nn.Linear(list_fmaps[i-1], list_fmaps[i])(x)\n",
    "                x = nn.ReLU()(x)\n",
    "                x = nn.Dropout(list_dropouts[i])(x)\n",
    "            else: #No more dropuouts\n",
    "                x= nn.Linear(list_fmaps[i-1], list_fmaps[i])(x)\n",
    "                x = nn.ReLU()(x)\n",
    "        \n",
    "        return x\n",
    "        \n",
    "class PHOSCNet(nn.Module):\n",
    "    def __init__(self,\n",
    "                 conv_in_ch,\n",
    "                 conv_fmaps,\n",
    "                 conv_type='2D',\n",
    "                 conv_layer_order='gcr',\n",
    "                 conv_num_groups=8, \n",
    "                 conv_kernel_size=3,\n",
    "                 conv_stride=1,\n",
    "                 conv_padding=1,\n",
    "                 conv_last_single_conv_fmap=512,\n",
    "                 \n",
    "                 pool_layer_index=[1, 3],\n",
    "                 pool_kernel_size=2,\n",
    "                 pool_stride=2,\n",
    "                 pool_padding=0,\n",
    "                 \n",
    "                 pyramid_pool_type='spatial',\n",
    "                 pyramid_pool_levels=[1, 2, 4],\n",
    "                 \n",
    "                 phos_head_fmaps=[4096, 4096, 165],\n",
    "                 phos_head_dropout=[0.5, 0.5],\n",
    "                 \n",
    "                 phoc_head_fmaps=[4096, 4096, 604],\n",
    "                 phoc_head_dropout=[0.5, 0.5],\n",
    "                 \n",
    "                 **kwargs):\n",
    "        super(PHOSCNet, self).__init__()\n",
    "\n",
    "        assert isinstance(conv_fmaps, list) or isinstance(conv_fmaps, tuple)\n",
    "        assert len(conv_fmaps) > 1, \"Required at least 2 levels in the CNN feature extractor\"\n",
    "        \n",
    "        # create CNN feature extractor architecture\n",
    "        self.cnn_arch = create_phocnet_architecture(conv_type,\n",
    "                                                    conv_in_ch,\n",
    "                                                    conv_fmaps,\n",
    "                                                    conv_kernel_size,\n",
    "                                                    conv_padding,\n",
    "                                                    conv_layer_order,\n",
    "                                                    conv_num_groups,\n",
    "                                                    pool_layer_index,\n",
    "                                                    pool_kernel_size,\n",
    "                                                    pool_stride,\n",
    "                                                    pool_padding,\n",
    "                                                    conv_last_single_conv_fmap)\n",
    "        \n",
    "        # create pyramid pooling layer\n",
    "        if pyramid_pool_type == 'spatial':\n",
    "            self.pp_layer = SpatialPyramidPooling(pyramid_pool_levels)\n",
    "        elif pyramid_pool_type == 'temporal':\n",
    "            self.pp_layer = TemporalPyramidPooling(pyramid_pool_levels)\n",
    "        else:\n",
    "            raise ValueError(f\"Unsupported pyramid pooling type '{pyramid_pool_type}'. MUST be one of ['spatial', 'temporal']\")\n",
    "        \n",
    "        # create phos, phoc heads\n",
    "        self.phos_head = PhoscFeatureHead(phos_head_fmaps, phos_head_dropout)\n",
    "        self.phoc_head = PhoscFeatureHead(phoc_head_fmaps, phoc_head_dropout)\n",
    "        \n",
    "\n",
    "    def forward(self, x):\n",
    "        for idx, layer in enumerate(self.cnn_arch):\n",
    "            x = layer(x)\n",
    "            #print(f'Layer{idx}: {x.shape}')\n",
    "        x = self.pp_layer.forward(x)\n",
    "        phos_feat = self.phos_head(x)\n",
    "        phoc_feat = self.phoc_head(x)\n",
    "        return phos_feat, phoc_feat"
   ]
  },
  {
   "cell_type": "code",
   "execution_count": 13,
   "id": "fc9d15fa-3ffd-4556-b2b4-5f73c6c182cc",
   "metadata": {
    "tags": []
   },
   "outputs": [
    {
     "name": "stdout",
     "output_type": "stream",
     "text": [
      "{'conv_in_ch': 3, 'conv_fmaps': [64, 128, 256, 256, 256, 512], 'conv_kernel_size': 3, 'conv_stride': 1, 'conv_padding': 1, 'conv_layer_order': 'cr', 'conv_last_single_conv_fmap': 512, 'pool_layer_index': [1, 3], 'pool_kernel_size': 2, 'pool_stride': 2, 'pool_padding': 0, 'pyramid_pooling_type': 'spatial', 'pyramid_pooling_levels': [1, 2, 4], 'phos_head_fmaps': [4096, 4096, 165], 'phos_head_dropout': [0.5, 0.5], 'phoc_head_fmaps': [4096, 4096, 604], 'phoc_head_dropout': [0.5, 0.5]}\n"
     ]
    }
   ],
   "source": [
    "def append_key_to_subconfig(main_key, subconfig):\n",
    "    config = {}\n",
    "    for key, value in subconfig.items():\n",
    "        new_key = '_'.join([main_key, key])\n",
    "        config[new_key] = value\n",
    "    return config\n",
    "\n",
    "_model_config = next(iter(args['model'].values()))\n",
    "model_config = {}\n",
    "    \n",
    "for key, value in _model_config.items():\n",
    "    _config = append_key_to_subconfig(key, value)\n",
    "    model_config.update(_config)\n",
    "print(model_config)"
   ]
  },
  {
   "cell_type": "code",
   "execution_count": 14,
   "id": "7e46ac9b-d934-4e56-aaa0-f83fd01b81f4",
   "metadata": {},
   "outputs": [
    {
     "name": "stdout",
     "output_type": "stream",
     "text": [
      "ModuleList(\n",
      "  (DoubleConv_1): DoubleConv(\n",
      "    (SingleConv1): SingleConv(\n",
      "      (conv): Conv2d(3, 64, kernel_size=(3, 3), stride=(1, 1), padding=(1, 1))\n",
      "      (ReLU): ReLU(inplace=True)\n",
      "    )\n",
      "    (SingleConv2): SingleConv(\n",
      "      (conv): Conv2d(64, 64, kernel_size=(3, 3), stride=(1, 1), padding=(1, 1))\n",
      "      (ReLU): ReLU(inplace=True)\n",
      "    )\n",
      "  )\n",
      "  (MaxPooling_1): MaxPool2d(kernel_size=2, stride=2, padding=0, dilation=1, ceil_mode=False)\n",
      "  (DoubleConv_2): DoubleConv(\n",
      "    (SingleConv1): SingleConv(\n",
      "      (conv): Conv2d(64, 128, kernel_size=(3, 3), stride=(1, 1), padding=(1, 1))\n",
      "      (ReLU): ReLU(inplace=True)\n",
      "    )\n",
      "    (SingleConv2): SingleConv(\n",
      "      (conv): Conv2d(128, 128, kernel_size=(3, 3), stride=(1, 1), padding=(1, 1))\n",
      "      (ReLU): ReLU(inplace=True)\n",
      "    )\n",
      "  )\n",
      "  (MaxPooling_2): MaxPool2d(kernel_size=2, stride=2, padding=0, dilation=1, ceil_mode=False)\n",
      "  (DoubleConv_3): DoubleConv(\n",
      "    (SingleConv1): SingleConv(\n",
      "      (conv): Conv2d(128, 256, kernel_size=(3, 3), stride=(1, 1), padding=(1, 1))\n",
      "      (ReLU): ReLU(inplace=True)\n",
      "    )\n",
      "    (SingleConv2): SingleConv(\n",
      "      (conv): Conv2d(256, 256, kernel_size=(3, 3), stride=(1, 1), padding=(1, 1))\n",
      "      (ReLU): ReLU(inplace=True)\n",
      "    )\n",
      "  )\n",
      "  (DoubleConv_4): DoubleConv(\n",
      "    (SingleConv1): SingleConv(\n",
      "      (conv): Conv2d(256, 256, kernel_size=(3, 3), stride=(1, 1), padding=(1, 1))\n",
      "      (ReLU): ReLU(inplace=True)\n",
      "    )\n",
      "    (SingleConv2): SingleConv(\n",
      "      (conv): Conv2d(256, 256, kernel_size=(3, 3), stride=(1, 1), padding=(1, 1))\n",
      "      (ReLU): ReLU(inplace=True)\n",
      "    )\n",
      "  )\n",
      "  (DoubleConv_5): DoubleConv(\n",
      "    (SingleConv1): SingleConv(\n",
      "      (conv): Conv2d(256, 256, kernel_size=(3, 3), stride=(1, 1), padding=(1, 1))\n",
      "      (ReLU): ReLU(inplace=True)\n",
      "    )\n",
      "    (SingleConv2): SingleConv(\n",
      "      (conv): Conv2d(256, 256, kernel_size=(3, 3), stride=(1, 1), padding=(1, 1))\n",
      "      (ReLU): ReLU(inplace=True)\n",
      "    )\n",
      "  )\n",
      "  (DoubleConv_6): DoubleConv(\n",
      "    (SingleConv1): SingleConv(\n",
      "      (conv): Conv2d(256, 512, kernel_size=(3, 3), stride=(1, 1), padding=(1, 1))\n",
      "      (ReLU): ReLU(inplace=True)\n",
      "    )\n",
      "    (SingleConv2): SingleConv(\n",
      "      (conv): Conv2d(512, 512, kernel_size=(3, 3), stride=(1, 1), padding=(1, 1))\n",
      "      (ReLU): ReLU(inplace=True)\n",
      "    )\n",
      "  )\n",
      "  (SingleConv_final): SingleConv(\n",
      "    (conv): Conv2d(512, 512, kernel_size=(3, 3), stride=(1, 1), padding=(1, 1))\n",
      "    (ReLU): ReLU(inplace=True)\n",
      "  )\n",
      ")\n"
     ]
    }
   ],
   "source": [
    "conv_in_ch = model_config.pop('conv_in_ch')\n",
    "conv_fmaps = model_config.pop('conv_fmaps')\n",
    "model = PHOSCNet(conv_in_ch, conv_fmaps, **model_config)\n",
    "print(model.cnn_arch)"
   ]
  },
  {
   "cell_type": "code",
   "execution_count": 15,
   "id": "68adf2cd-ef3d-4dff-ad35-37dcfa6f312b",
   "metadata": {},
   "outputs": [
    {
     "name": "stdout",
     "output_type": "stream",
     "text": [
      "torch.Size([10, 165]) torch.Size([10, 604])\n",
      "torch.Size([10, 165]) torch.Size([10, 604])\n",
      "torch.Size([10, 165]) torch.Size([10, 604])\n",
      "torch.Size([8, 165]) torch.Size([8, 604])\n"
     ]
    }
   ],
   "source": [
    "for batch_idx, batch in enumerate(phosc_loader.train_dataloader()):\n",
    "    xx = torch.permute(batch['img'], (0, 3, 1, 2)).float()\n",
    "    cnn_feats = model.forward(xx)\n",
    "    print(cnn_feats[0].shape, cnn_feats[1].shape)\n"
   ]
  },
  {
   "cell_type": "code",
   "execution_count": null,
   "id": "9e83a1b6-d742-4166-8385-10dfdaa9eb14",
   "metadata": {},
   "outputs": [],
   "source": []
  }
 ],
 "metadata": {
  "kernelspec": {
   "display_name": "Python 3",
   "language": "python",
   "name": "python3"
  },
  "language_info": {
   "codemirror_mode": {
    "name": "ipython",
    "version": 3
   },
   "file_extension": ".py",
   "mimetype": "text/x-python",
   "name": "python",
   "nbconvert_exporter": "python",
   "pygments_lexer": "ipython3",
   "version": "3.8.8"
  }
 },
 "nbformat": 4,
 "nbformat_minor": 5
}
