{
 "cells": [
  {
   "cell_type": "code",
   "execution_count": 1,
   "id": "252979ba-05f9-4002-9a14-1f4e502f60f8",
   "metadata": {},
   "outputs": [],
   "source": [
    "import os\n",
    "import pandas as pd"
   ]
  },
  {
   "cell_type": "markdown",
   "id": "b78c1949-80df-4421-b1ec-a1e3049e4811",
   "metadata": {},
   "source": [
    "# Read CSV file"
   ]
  },
  {
   "cell_type": "code",
   "execution_count": 2,
   "id": "16ca1843-a901-47ba-80de-7ed0310613f5",
   "metadata": {
    "tags": []
   },
   "outputs": [],
   "source": [
    "csv_file = '/media/windowsC/SIN_Desktop/projects/2021/ohenri/COP_heat_fromcool.csv'\n",
    "df_cop = pd.read_csv(csv_file)\n",
    "#print(df_cop)"
   ]
  },
  {
   "cell_type": "code",
   "execution_count": 3,
   "id": "0df1a459-d89d-4938-b243-66b0feb0b593",
   "metadata": {},
   "outputs": [
    {
     "name": "stdout",
     "output_type": "stream",
     "text": [
      "[11.91]\n",
      "[[ 9.66683333 10.7168     11.88966667]\n",
      " [ 6.56        7.046       7.536     ]]\n"
     ]
    }
   ],
   "source": [
    "from scipy.interpolate import interp2d\n",
    "def find_cop(cold_temp, hot_temp, df_cod):\n",
    "    cold_range = list(df_cod.iloc[:,0])\n",
    "    hot_range  = [int(i) for i in list(df_cod.columns)[1:]]\n",
    "    interp_fun = interp2d(cold_range, hot_range, df_cod.iloc[:,1:].to_numpy().T, kind='linear')\n",
    "    znew = interp_fun(cold_temp, hot_temp)\n",
    "    return znew\n",
    "    \n",
    "new_value = find_cop(11.5, 29, df_cop) # returns a array with one element\n",
    "print(new_value)\n",
    "new_array =find_cop([5.5, 7.8, 9.9], [27.3, 45.8], df_cop) # returns an array of size n_y * n_x\n",
    "print(new_array)\n",
    "    "
   ]
  },
  {
   "cell_type": "code",
   "execution_count": null,
   "id": "674a9b99-d5e7-4b2c-bf6c-e8591b3a5b81",
   "metadata": {},
   "outputs": [],
   "source": []
  }
 ],
 "metadata": {
  "kernelspec": {
   "display_name": "Python 3 (ipykernel)",
   "language": "python",
   "name": "python3"
  },
  "language_info": {
   "codemirror_mode": {
    "name": "ipython",
    "version": 3
   },
   "file_extension": ".py",
   "mimetype": "text/x-python",
   "name": "python",
   "nbconvert_exporter": "python",
   "pygments_lexer": "ipython3",
   "version": "3.7.11"
  }
 },
 "nbformat": 4,
 "nbformat_minor": 5
}
